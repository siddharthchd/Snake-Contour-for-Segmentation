{
 "cells": [
  {
   "cell_type": "code",
   "execution_count": 63,
   "metadata": {},
   "outputs": [],
   "source": [
    "%matplotlib inline\n",
    "import matplotlib.pyplot as plt\n",
    "import numpy as np\n",
    "import math\n",
    "from scipy.spatial.distance import pdist\n",
    "from math import pi"
   ]
  },
  {
   "cell_type": "code",
   "execution_count": 61,
   "metadata": {},
   "outputs": [
    {
     "data": {
      "image/png": "[encoded data removed]",
      "text/plain": [
       "<Figure size 432x288 with 1 Axes>"
      ]
     },
     "metadata": {
      "needs_background": "light"
     },
     "output_type": "display_data"
    }
   ],
   "source": [
    "fig, ax = plt.subplots()\n",
    "ax.set(xlim=(-5, 5), ylim = (-5, 5))\n",
    "\n",
    "circle = plt.Circle((0, 0), 2, color = 'black')\n",
    "snake = plt.Circle((0, 0), 4, color = 'black', fill = False)\n",
    "\n",
    "ax.add_artist(circle)\n",
    "ax.add_artist(snake)\n",
    "\n",
    "def getPointsOnSnake(radius, numberOfPoints):\n",
    "    radiansBetweenEachPoint = 2 * np.pi / numberOfPoints\n",
    "    points = []\n",
    "    \n",
    "    for p in range(0, numberOfPoints):\n",
    "        points.append((radius * np.cos(p * radiansBetweenEachPoint), radius * np.sin(p * radiansBetweenEachPoint)))\n",
    "    \n",
    "    return points\n",
    "\n",
    "points = getPointsOnSnake(4, 10)\n",
    "for x in range(len(points)):\n",
    "    plt.scatter(points[x][0], points[x][1], color = 'red')\n",
    "    \n",
    "plt.savefig('initalSnake.png')"
   ]
  },
  {
   "cell_type": "code",
   "execution_count": 69,
   "metadata": {},
   "outputs": [
    {
     "name": "stdout",
     "output_type": "stream",
     "text": [
      "[[ 4.00000000e+00  0.00000000e+00]\n",
      " [ 3.23606798e+00  2.35114101e+00]\n",
      " [ 1.23606798e+00  3.80422607e+00]\n",
      " [-1.23606798e+00  3.80422607e+00]\n",
      " [-3.23606798e+00  2.35114101e+00]\n",
      " [-4.00000000e+00  4.89858720e-16]\n",
      " [-3.23606798e+00 -2.35114101e+00]\n",
      " [-1.23606798e+00 -3.80422607e+00]\n",
      " [ 1.23606798e+00 -3.80422607e+00]\n",
      " [ 3.23606798e+00 -2.35114101e+00]]\n",
      "5.6122235686000375\n"
     ]
    }
   ],
   "source": [
    "points = np.array(points)\n",
    "averageDistance = np.mean(pdist(points))\n",
    "print(points)\n",
    "print(averageDistance)"
   ]
  },
  {
   "cell_type": "code",
   "execution_count": 66,
   "metadata": {},
   "outputs": [
    {
     "data": {
      "text/plain": [
       "5.6122235686000375"
      ]
     },
     "execution_count": 66,
     "metadata": {},
     "output_type": "execute_result"
    }
   ],
   "source": []
  },
  {
   "cell_type": "code",
   "execution_count": null,
   "metadata": {},
   "outputs": [],
   "source": []
  }
 ],
 "metadata": {
  "kernelspec": {
   "display_name": "Python 3",
   "language": "python",
   "name": "python3"
  },
  "language_info": {
   "codemirror_mode": {
    "name": "ipython",
    "version": 3
   },
   "file_extension": ".py",
   "mimetype": "text/x-python",
   "name": "python",
   "nbconvert_exporter": "python",
   "pygments_lexer": "ipython3",
   "version": "3.7.4"
  }
 },
 "nbformat": 4,
 "nbformat_minor": 2
}
